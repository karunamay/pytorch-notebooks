{
 "cells": [
  {
   "cell_type": "markdown",
   "id": "14c6b7d1",
   "metadata": {},
   "source": [
    "### PyTorch is a Python-based scientific computing package serving two broad purposes:\n",
    "1. A replacement for NumPy to use the power of GPUs and other accelerators.\n",
    "2. An automatic differentiation library that is useful to implement neural networks.\n",
    "\n",
    "1. https://pytorch.org/get-started/locally/\n",
    "2. https://pytorch.org/tutorials/beginner/deep_learning_60min_blitz.html\n",
    "3. https://github.com/yunjey/pytorch-tutorial"
   ]
  },
  {
   "cell_type": "code",
   "execution_count": 2,
   "id": "a022ff9a",
   "metadata": {},
   "outputs": [],
   "source": [
    "#Import libraries\n",
    "import torch\n",
    "import torch.nn as nn\n",
    "import torchvision\n",
    "import torchvision.transforms as transforms\n",
    "import numpy as np\n",
    "import matplotlib.pyplot as plt"
   ]
  },
  {
   "cell_type": "code",
   "execution_count": 3,
   "id": "250d2a7b",
   "metadata": {},
   "outputs": [],
   "source": [
    "#Device configuration -\n",
    "device = torch.device('cuda' if torch.cuda.is_available() else 'cpu')"
   ]
  },
  {
   "cell_type": "code",
   "execution_count": 8,
   "id": "60a72707",
   "metadata": {},
   "outputs": [],
   "source": [
    "# Hyper-parameters \n",
    "input_size = 28 * 28    # 784\n",
    "num_classes = 10\n",
    "num_epochs = 5\n",
    "batch_size = 100\n",
    "hidden_size = 500\n",
    "learning_rate = 0.001"
   ]
  },
  {
   "cell_type": "code",
   "execution_count": 5,
   "id": "1bedaef8",
   "metadata": {},
   "outputs": [],
   "source": [
    "# MNIST dataset (images and labels)\n",
    "train_dataset = torchvision.datasets.MNIST(root='../../data', \n",
    "                                           train=True, \n",
    "                                           transform=transforms.ToTensor(),\n",
    "                                           download=True)\n",
    "\n",
    "test_dataset = torchvision.datasets.MNIST(root='../../data', \n",
    "                                          train=False, \n",
    "                                          transform=transforms.ToTensor())"
   ]
  },
  {
   "cell_type": "code",
   "execution_count": 6,
   "id": "ac0f63ee",
   "metadata": {},
   "outputs": [],
   "source": [
    "# Data loader (input pipeline)\n",
    "train_loader = torch.utils.data.DataLoader(dataset=train_dataset, \n",
    "                                           batch_size=batch_size, \n",
    "                                           shuffle=True)\n",
    "\n",
    "test_loader = torch.utils.data.DataLoader(dataset=test_dataset, \n",
    "                                          batch_size=batch_size, \n",
    "                                          shuffle=False)"
   ]
  },
  {
   "cell_type": "code",
   "execution_count": 9,
   "id": "aee96d8a",
   "metadata": {},
   "outputs": [],
   "source": [
    "# Fully connected neural network with one hidden layer\n",
    "class NeuralNet(nn.Module):\n",
    "    def __init__(self, input_size, hidden_size, num_classes):\n",
    "        super(NeuralNet, self).__init__()\n",
    "        self.fc1 = nn.Linear(input_size, hidden_size) \n",
    "        self.relu = nn.ReLU()\n",
    "        self.fc2 = nn.Linear(hidden_size, num_classes)  \n",
    "    \n",
    "    def forward(self, x):\n",
    "        out = self.fc1(x)\n",
    "        out = self.relu(out)\n",
    "        out = self.fc2(out)\n",
    "        return out\n"
   ]
  },
  {
   "cell_type": "code",
   "execution_count": 11,
   "id": "c0f61c49",
   "metadata": {},
   "outputs": [],
   "source": [
    "#Model\n",
    "model = NeuralNet(input_size, hidden_size, num_classes).to(device)"
   ]
  },
  {
   "cell_type": "code",
   "execution_count": 12,
   "id": "a1434a79",
   "metadata": {},
   "outputs": [],
   "source": [
    "# Loss and optimizer\n",
    "criterion = nn.CrossEntropyLoss()\n",
    "optimizer = torch.optim.Adam(model.parameters(), lr=learning_rate)  \n"
   ]
  },
  {
   "cell_type": "code",
   "execution_count": 13,
   "id": "14d9a391",
   "metadata": {},
   "outputs": [
    {
     "name": "stdout",
     "output_type": "stream",
     "text": [
      "Epoch [1/5], Step [100/600], Loss: 0.3872\n",
      "Epoch [1/5], Step [200/600], Loss: 0.1517\n",
      "Epoch [1/5], Step [300/600], Loss: 0.2866\n",
      "Epoch [1/5], Step [400/600], Loss: 0.1271\n",
      "Epoch [1/5], Step [500/600], Loss: 0.0745\n",
      "Epoch [1/5], Step [600/600], Loss: 0.1267\n",
      "Epoch [2/5], Step [100/600], Loss: 0.1365\n",
      "Epoch [2/5], Step [200/600], Loss: 0.1405\n",
      "Epoch [2/5], Step [300/600], Loss: 0.1753\n",
      "Epoch [2/5], Step [400/600], Loss: 0.0790\n",
      "Epoch [2/5], Step [500/600], Loss: 0.1145\n",
      "Epoch [2/5], Step [600/600], Loss: 0.1076\n",
      "Epoch [3/5], Step [100/600], Loss: 0.0404\n",
      "Epoch [3/5], Step [200/600], Loss: 0.0746\n",
      "Epoch [3/5], Step [300/600], Loss: 0.0749\n",
      "Epoch [3/5], Step [400/600], Loss: 0.0478\n",
      "Epoch [3/5], Step [500/600], Loss: 0.0609\n",
      "Epoch [3/5], Step [600/600], Loss: 0.0812\n",
      "Epoch [4/5], Step [100/600], Loss: 0.0188\n",
      "Epoch [4/5], Step [200/600], Loss: 0.0800\n",
      "Epoch [4/5], Step [300/600], Loss: 0.0667\n",
      "Epoch [4/5], Step [400/600], Loss: 0.0520\n",
      "Epoch [4/5], Step [500/600], Loss: 0.0849\n",
      "Epoch [4/5], Step [600/600], Loss: 0.0848\n",
      "Epoch [5/5], Step [100/600], Loss: 0.0684\n",
      "Epoch [5/5], Step [200/600], Loss: 0.0230\n",
      "Epoch [5/5], Step [300/600], Loss: 0.0060\n",
      "Epoch [5/5], Step [400/600], Loss: 0.0421\n",
      "Epoch [5/5], Step [500/600], Loss: 0.0483\n",
      "Epoch [5/5], Step [600/600], Loss: 0.0358\n"
     ]
    }
   ],
   "source": [
    "# Train the model\n",
    "total_step = len(train_loader)\n",
    "for epoch in range(num_epochs):\n",
    "    for i, (images, labels) in enumerate(train_loader):\n",
    "        # Reshape images to (batch_size, input_size)\n",
    "        images = images.reshape(-1, input_size).to(device)\n",
    "        labels = labels.to(device)\n",
    "        # Forward pass\n",
    "        outputs = model(images)\n",
    "        loss = criterion(outputs, labels)\n",
    "        \n",
    "        # Backward and optimize\n",
    "        optimizer.zero_grad()\n",
    "        loss.backward()\n",
    "        optimizer.step()\n",
    "        \n",
    "        if (i+1) % 100 == 0:\n",
    "            print ('Epoch [{}/{}], Step [{}/{}], Loss: {:.4f}' \n",
    "                   .format(epoch+1, num_epochs, i+1, total_step, loss.item()))"
   ]
  },
  {
   "cell_type": "code",
   "execution_count": 14,
   "id": "c10076f9",
   "metadata": {},
   "outputs": [
    {
     "name": "stdout",
     "output_type": "stream",
     "text": [
      "Accuracy of the model on the 10000 test images: 97.62000274658203 %\n"
     ]
    }
   ],
   "source": [
    "# Test the model\n",
    "# In test phase, we don't need to compute gradients (for memory efficiency)\n",
    "with torch.no_grad():\n",
    "    correct = 0\n",
    "    total = 0\n",
    "    for images, labels in test_loader:\n",
    "        images = images.reshape(-1, input_size).to(device)\n",
    "        labels = labels.to(device)\n",
    "        outputs = model(images)\n",
    "        _, predicted = torch.max(outputs.data, 1)\n",
    "        total += labels.size(0)\n",
    "        correct += (predicted == labels).sum()\n",
    "\n",
    "    print('Accuracy of the model on the 10000 test images: {} %'.format(100 * correct / total))"
   ]
  },
  {
   "cell_type": "code",
   "execution_count": 7,
   "id": "70d6571f",
   "metadata": {},
   "outputs": [],
   "source": [
    "# Save the model checkpoint\n",
    "# torch.save(model.state_dict(), 'model.ckpt')"
   ]
  },
  {
   "cell_type": "code",
   "execution_count": null,
   "id": "5d748428",
   "metadata": {},
   "outputs": [],
   "source": []
  }
 ],
 "metadata": {
  "kernelspec": {
   "display_name": "Python 3 (ipykernel)",
   "language": "python",
   "name": "python3"
  },
  "language_info": {
   "codemirror_mode": {
    "name": "ipython",
    "version": 3
   },
   "file_extension": ".py",
   "mimetype": "text/x-python",
   "name": "python",
   "nbconvert_exporter": "python",
   "pygments_lexer": "ipython3",
   "version": "3.8.13"
  }
 },
 "nbformat": 4,
 "nbformat_minor": 5
}
